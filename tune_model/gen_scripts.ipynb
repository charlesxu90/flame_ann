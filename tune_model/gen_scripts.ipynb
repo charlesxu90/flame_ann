{
 "cells": [
  {
   "cell_type": "markdown",
   "id": "77e24b3d-f701-402f-a965-2198cf924ab1",
   "metadata": {},
   "source": [
    "# Generate shell scripts"
   ]
  },
  {
   "cell_type": "markdown",
   "id": "f237cb7e-53eb-4731-a6ac-dbc669f1714b",
   "metadata": {},
   "source": [
    "## Set up parameters to run"
   ]
  },
  {
   "cell_type": "code",
   "execution_count": 15,
   "id": "2e9d497a-61cb-4983-a242-82392b66d273",
   "metadata": {},
   "outputs": [],
   "source": [
    "# Some parameters\n",
    "\n",
    "layer = 4  # in {2, 3, 4} default 4, usually only care about 4 hid layer network\n",
    "flame_ann = \"flame2_ann3\"\n",
    "\n",
    "n_epoch = 500\n",
    "save_dir = \"/home/xux/work/Flame_ann/\"\n",
    "max_runtime = \"4:00:00\"\n",
    "split_size = 16\n",
    "\n",
    "layer1 = [25, 50, 100, 200]\n",
    "layer2 = [25, 50, 100, 200]\n",
    "layer3 = [25, 50, 100, 200]\n",
    "layer4 = [25, 50, 100, 200]"
   ]
  },
  {
   "cell_type": "markdown",
   "id": "8441a4de-b794-479f-82a6-2ef5a1578756",
   "metadata": {},
   "source": [
    "## Generate commands based on number of layers"
   ]
  },
  {
   "cell_type": "code",
   "execution_count": 16,
   "id": "700d611a-9613-4dcd-bb5f-fe745360c92a",
   "metadata": {},
   "outputs": [],
   "source": [
    "def get_2l_commands(layer1, layer2):\n",
    "    commands = []\n",
    "    for i2 in range(len(layer2)):\n",
    "        for i1 in range(len(layer1)):\n",
    "            commands.append(f\"python {flame_ann}_cpu.py --data_dir $data_dir --epochs \"\n",
    "                            + f\"$epochs --nodes {layer1[i1]} {layer2[i2]} \"\n",
    "                            + f\">{flame_ann}_2l-{layer1[i1]}_{layer2[i2]}.out\\n\")\n",
    "    return commands\n",
    "\n",
    "\n",
    "def get_3l_commands(layer1, layer2, layer3):\n",
    "    commands = []\n",
    "    for i3 in range(len(layer3)):\n",
    "        for i2 in range(len(layer2)):\n",
    "            for i1 in range(len(layer1)):\n",
    "                commands.append(f\"python {flame_ann}_cpu.py --data_dir $data_dir --epochs \"\n",
    "                                + f\"$epochs --nodes {layer1[i1]} {layer2[i2]} {layer3[i3]} \"\n",
    "                                + f\">{flame_ann}_3l-{layer1[i1]}_{layer2[i2]}_{layer3[i3]}.out\\n\")\n",
    "    return commands\n",
    "\n",
    "\n",
    "def get_4l_commands(layer1, layer2, layer3, layer4):\n",
    "    commands = []\n",
    "    for i4 in range(len(layer4)):\n",
    "        for i3 in range(len(layer3)):\n",
    "            for i2 in range(len(layer2)):\n",
    "                for i1 in range(len(layer1)):\n",
    "                    commands.append(f\"python {flame_ann}_cpu.py --data_dir $data_dir --epochs \"\n",
    "                                    + f\"$epochs --nodes {layer1[i1]} {layer2[i2]} {layer3[i3]} {layer4[i4]} \"\n",
    "                                    + f\">{flame_ann}_4l-{layer1[i1]}_{layer2[i2]}_{layer3[i3]}_{layer4[i4]}.out\\n\")\n",
    "    return commands"
   ]
  },
  {
   "cell_type": "code",
   "execution_count": 17,
   "id": "fd3e8933-5c9b-4818-a755-c235ba394d2a",
   "metadata": {},
   "outputs": [],
   "source": [
    "if layer == 2:\n",
    "    commands = get_2l_commands(layer1, layer2)\n",
    "elif layer == 3:\n",
    "    commands = get_3l_commands(layer1, layer2, layer3)\n",
    "elif layer == 4:\n",
    "    commands = get_4l_commands(layer1, layer2, layer3, layer4)\n",
    "else:\n",
    "    assert \"Error in num of layers\""
   ]
  },
  {
   "cell_type": "code",
   "execution_count": 18,
   "id": "4174e93f-7629-409b-82d3-7ffa0bcc2ae0",
   "metadata": {},
   "outputs": [
    {
     "data": {
      "text/plain": [
       "256"
      ]
     },
     "execution_count": 18,
     "metadata": {},
     "output_type": "execute_result"
    }
   ],
   "source": [
    "len(commands)"
   ]
  },
  {
   "cell_type": "markdown",
   "id": "d2bcd6a6-d0fc-415a-ad6e-4f0083860847",
   "metadata": {},
   "source": [
    "## Write commands to sbatch files"
   ]
  },
  {
   "cell_type": "markdown",
   "id": "fd79f727-b0e7-455e-96be-3aa748136e19",
   "metadata": {},
   "source": [
    "### Define sbatch prefix and suffix"
   ]
  },
  {
   "cell_type": "markdown",
   "id": "5f771abe-86ef-4ed2-b594-3fb8c73238eb",
   "metadata": {
    "tags": []
   },
   "source": [
    "Prefix contents\n",
    "\n",
    "```shell\n",
    "#!/bin/bash\n",
    "#SBATCH --time=4:00:00\n",
    "#SBATCH --cpus-per-task=60\n",
    "#SBATCH --mem=64G\n",
    "#SBATCH --partition=batch\n",
    "#SBATCH --job-name=2layer\n",
    "#SBATCH --output=./%x-%j-slurm.out\n",
    "#SBATCH --error=./%x-%j-slurm.err\n",
    "\n",
    "start_time=$(date +\"%T\")\n",
    "echo \"Start time: $start_time\"\n",
    "\n",
    "data_dir=/home/xux/work/Flame_ann/data/\n",
    "epochs=100\n",
    "```\n",
    "\n",
    "Suffix contents\n",
    "```shell\n",
    "finish_time=$(date +\"%T\")\n",
    "echo \"Finish time: $finish_time\"\n",
    "```"
   ]
  },
  {
   "cell_type": "markdown",
   "id": "48721aa3-0240-413f-ab1b-c1166368ad97",
   "metadata": {
    "tags": []
   },
   "source": [
    "### for err checking\n",
    "```python\n",
    "file = open(\"test_commands.txt\", \"w\")\n",
    "[file.write(cmd) for cmd in commands]\n",
    "file.close()\n",
    "\n",
    "n_cmd = len(commands)\n",
    "n_full_splits = n_cmd // split_size\n",
    "print(split_size)\n",
    "for spl in range(n_full_splits):\n",
    "    print(spl)\n",
    "    [print(cmd) for cmd in commands[spl*split_size:(spl+1)*split_size]]\n",
    "```"
   ]
  },
  {
   "cell_type": "code",
   "execution_count": 19,
   "id": "69faca06-5689-4fd8-9eae-19c88536cb03",
   "metadata": {},
   "outputs": [],
   "source": [
    "# define useful prefix and suffix\n",
    "def get_sbatch_prefix(split):\n",
    "    sbatch_prefix = f\"#!/bin/bash\\n#SBATCH --time={max_runtime}\\n#SBATCH --cpus-per-task=60\\n#SBATCH --mem=64G\\n#SBATCH --partition=batch\\n#SBATCH --job-name={flame_ann}_{layer}layer_{split}\\n#SBATCH --output=./%x-%j-slurm.out\\n#SBATCH --error=./%x-%j-slurm.err\\n\"\n",
    "    return sbatch_prefix\n",
    "\n",
    "\n",
    "def get_sbatch_path(split):\n",
    "    sbatch_path = f\"./run_{flame_ann}_tune_{layer}layer_{split}.sbatch\"  # f\"./tune_model/run_{flame_ann}_tune_{layer}layer_{split}.sbatch\"\n",
    "    return sbatch_path\n",
    "\n",
    "\n",
    "starttime_prefix = '\\nstart_time=$(date +\"%T\")\\necho \"Start time: $start_time\"\\n'\n",
    "data_epochs_prefix = f\"\\ndata_dir={save_dir}data/\\nepochs={n_epoch}\\n\\n\"\n",
    "endtime_suffix = '\\nfinish_time=$(date +\"%T\")\\necho \"Finish time: $finish_time\"\\n'"
   ]
  },
  {
   "cell_type": "code",
   "execution_count": 20,
   "id": "338de5f3-2c94-4fa3-b5d0-705c2642aa28",
   "metadata": {},
   "outputs": [],
   "source": [
    "def write_commands(commands, split_size=100):\n",
    "    n_cmd = len(commands)\n",
    "    n_full_splits = n_cmd // split_size\n",
    "    for spl in range(n_full_splits):\n",
    "        file = open(get_sbatch_path(spl), \"w\")\n",
    "        file.write(get_sbatch_prefix(spl))\n",
    "        file.write(starttime_prefix)\n",
    "        file.write(data_epochs_prefix)\n",
    "        [file.write(cmd) for cmd in commands[spl*split_size:(spl+1)*split_size]]\n",
    "        file.write(endtime_suffix)\n",
    "        file.close()\n",
    "\n",
    "    if n_cmd > n_full_splits*split_size:\n",
    "        file = open(get_sbatch_path(n_full_splits), \"w\")\n",
    "\n",
    "        file.write(get_sbatch_prefix(n_full_splits))\n",
    "        file.write(starttime_prefix)\n",
    "        file.write(data_epochs_prefix)\n",
    "\n",
    "        [file.write(cmd) for cmd in commands[n_full_splits*split_size:-1]]\n",
    "\n",
    "        file.write(endtime_suffix)\n",
    "        file.close()\n"
   ]
  },
  {
   "cell_type": "code",
   "execution_count": 21,
   "id": "f332a0d4-ce96-41cd-ab5d-6fecf57ce44a",
   "metadata": {},
   "outputs": [],
   "source": [
    "write_commands(commands, split_size)"
   ]
  },
  {
   "cell_type": "code",
   "execution_count": null,
   "id": "c08a3537-ee2d-42aa-88ef-02e51f3a972f",
   "metadata": {},
   "outputs": [],
   "source": []
  }
 ],
 "metadata": {
  "kernelspec": {
   "display_name": "Python 3 (ipykernel)",
   "language": "python",
   "name": "python3"
  },
  "language_info": {
   "codemirror_mode": {
    "name": "ipython",
    "version": 3
   },
   "file_extension": ".py",
   "mimetype": "text/x-python",
   "name": "python",
   "nbconvert_exporter": "python",
   "pygments_lexer": "ipython3",
   "version": "3.9.7"
  }
 },
 "nbformat": 4,
 "nbformat_minor": 5
}
